{
 "cells": [
  {
   "cell_type": "markdown",
   "id": "0e212078",
   "metadata": {},
   "source": [
    "## Classification of microorganisms"
   ]
  },
  {
   "cell_type": "code",
   "execution_count": 1,
   "id": "5fc0c42c",
   "metadata": {},
   "outputs": [],
   "source": [
    "import pandas as pd\n",
    "import matplotlib.pyplot as plt\n",
    "import seaborn as sns\n",
    "import numpy as np\n",
    "\n",
    "# import metrics\n",
    "from sklearn.model_selection import train_test_split, GridSearchCV, \\\n",
    "    cross_val_score,StratifiedKFold\n",
    "from sklearn.preprocessing import StandardScaler\n",
    "from sklearn import metrics\n",
    "from sklearn.metrics import accuracy_score, precision_score, recall_score, \\\n",
    "    f1_score, make_scorer, confusion_matrix, \\\n",
    "    roc_curve, precision_recall_curve, roc_auc_score, make_scorer\n",
    "\n",
    "# imbalance methods\n",
    "import imblearn.over_sampling\n",
    "\n",
    "# feature importance\n",
    "from sklearn.inspection import permutation_importance\n",
    "\n",
    "# import models\n",
    "from sklearn.neighbors import KNeighborsClassifier\n",
    "from sklearn.linear_model import LogisticRegression\n",
    "from sklearn.tree import DecisionTreeClassifier\n",
    "from sklearn.ensemble import RandomForestClassifier, GradientBoostingClassifier\n",
    "\n"
   ]
  },
  {
   "cell_type": "markdown",
   "id": "9258fbfa",
   "metadata": {},
   "source": [
    "## Part 1. EDA"
   ]
  },
  {
   "cell_type": "markdown",
   "id": "af08f8f9",
   "metadata": {},
   "source": [
    "Target: Ulothrix <br>\n",
    "Predict whether it is Ulothrix or not"
   ]
  },
  {
   "cell_type": "code",
   "execution_count": 2,
   "id": "220f6ada",
   "metadata": {},
   "outputs": [],
   "source": [
    "df = pd.read_excel('microbes.xlsx') "
   ]
  },
  {
   "cell_type": "code",
   "execution_count": 3,
   "id": "0eb50599",
   "metadata": {},
   "outputs": [],
   "source": [
    "df = df.rename(columns={'Microorganisms':'Target'})\n",
    "\n",
    "# pos (1) = Ulothrix, neg(0) = Other\n",
    "df['Target_int'] = df['Target'].apply(lambda x: 1 if \"Ulothrix\" in x else 0)"
   ]
  },
  {
   "cell_type": "code",
   "execution_count": 4,
   "id": "4eb98c2f",
   "metadata": {},
   "outputs": [
    {
     "name": "stdout",
     "output_type": "stream",
     "text": [
      "<class 'pandas.core.frame.DataFrame'>\n",
      "RangeIndex: 30527 entries, 0 to 30526\n",
      "Data columns (total 26 columns):\n",
      " #   Column           Non-Null Count  Dtype  \n",
      "---  ------           --------------  -----  \n",
      " 0   Solidity         30527 non-null  float64\n",
      " 1   Eccentricity     30527 non-null  float64\n",
      " 2   EquivDiameter    30527 non-null  float64\n",
      " 3   Extrema          30527 non-null  float64\n",
      " 4   FilledArea       30527 non-null  float64\n",
      " 5   Extent           30527 non-null  float64\n",
      " 6   Orientation      30527 non-null  float64\n",
      " 7   EulerNumber      30527 non-null  float64\n",
      " 8   BoundingBox1     30527 non-null  float64\n",
      " 9   BoundingBox2     30527 non-null  float64\n",
      " 10  BoundingBox3     30527 non-null  float64\n",
      " 11  BoundingBox4     30527 non-null  float64\n",
      " 12  ConvexHull1      30527 non-null  float64\n",
      " 13  ConvexHull2      30527 non-null  float64\n",
      " 14  ConvexHull3      30527 non-null  float64\n",
      " 15  ConvexHull4      30527 non-null  float64\n",
      " 16  MajorAxisLength  30527 non-null  float64\n",
      " 17  MinorAxisLength  30527 non-null  float64\n",
      " 18  Perimeter        30527 non-null  float64\n",
      " 19  ConvexArea       30527 non-null  float64\n",
      " 20  Centroid1        30527 non-null  float64\n",
      " 21  Centroid2        30527 non-null  float64\n",
      " 22  Area             30527 non-null  float64\n",
      " 23  Raddi            30527 non-null  float64\n",
      " 24  Target           30527 non-null  object \n",
      " 25  Target_int       30527 non-null  int64  \n",
      "dtypes: float64(24), int64(1), object(1)\n",
      "memory usage: 6.1+ MB\n"
     ]
    }
   ],
   "source": [
    "# no null data\n",
    "df.info()"
   ]
  },
  {
   "cell_type": "code",
   "execution_count": 5,
   "id": "39e3b1d0",
   "metadata": {},
   "outputs": [
    {
     "data": {
      "text/plain": [
       "array(['Spirogyra', 'Volvox', 'Pithophora', 'Yeast', 'Raizopus',\n",
       "       'Penicillum', 'Aspergillus sp', 'Protozoa', 'Diatom', 'Ulothrix'],\n",
       "      dtype=object)"
      ]
     },
     "execution_count": 5,
     "metadata": {},
     "output_type": "execute_result"
    }
   ],
   "source": [
    "df['Target'].unique()"
   ]
  },
  {
   "cell_type": "code",
   "execution_count": 6,
   "id": "a7f42933",
   "metadata": {},
   "outputs": [
    {
     "data": {
      "text/plain": [
       "(25653, 26)"
      ]
     },
     "execution_count": 6,
     "metadata": {},
     "output_type": "execute_result"
    }
   ],
   "source": [
    "# duplicate data? ---> 25,653 duplicate entries\n",
    "duplicateRows = df[df.duplicated()]\n",
    "duplicateRows.shape"
   ]
  },
  {
   "cell_type": "code",
   "execution_count": 7,
   "id": "ac17bbd0",
   "metadata": {},
   "outputs": [
    {
     "data": {
      "text/html": [
       "<div>\n",
       "<style scoped>\n",
       "    .dataframe tbody tr th:only-of-type {\n",
       "        vertical-align: middle;\n",
       "    }\n",
       "\n",
       "    .dataframe tbody tr th {\n",
       "        vertical-align: top;\n",
       "    }\n",
       "\n",
       "    .dataframe thead th {\n",
       "        text-align: right;\n",
       "    }\n",
       "</style>\n",
       "<table border=\"1\" class=\"dataframe\">\n",
       "  <thead>\n",
       "    <tr style=\"text-align: right;\">\n",
       "      <th></th>\n",
       "      <th>Solidity</th>\n",
       "      <th>Eccentricity</th>\n",
       "      <th>EquivDiameter</th>\n",
       "      <th>Extrema</th>\n",
       "      <th>FilledArea</th>\n",
       "      <th>Extent</th>\n",
       "      <th>Orientation</th>\n",
       "      <th>EulerNumber</th>\n",
       "      <th>BoundingBox1</th>\n",
       "      <th>BoundingBox2</th>\n",
       "      <th>...</th>\n",
       "      <th>MajorAxisLength</th>\n",
       "      <th>MinorAxisLength</th>\n",
       "      <th>Perimeter</th>\n",
       "      <th>ConvexArea</th>\n",
       "      <th>Centroid1</th>\n",
       "      <th>Centroid2</th>\n",
       "      <th>Area</th>\n",
       "      <th>Raddi</th>\n",
       "      <th>Target</th>\n",
       "      <th>Target_int</th>\n",
       "    </tr>\n",
       "  </thead>\n",
       "  <tbody>\n",
       "    <tr>\n",
       "      <th>70</th>\n",
       "      <td>20.2</td>\n",
       "      <td>15.0</td>\n",
       "      <td>1.97</td>\n",
       "      <td>20.6</td>\n",
       "      <td>0.0722</td>\n",
       "      <td>15.4</td>\n",
       "      <td>3.95</td>\n",
       "      <td>22.9</td>\n",
       "      <td>20.6</td>\n",
       "      <td>18.8</td>\n",
       "      <td>...</td>\n",
       "      <td>0.33</td>\n",
       "      <td>0.411</td>\n",
       "      <td>0.0986</td>\n",
       "      <td>0.0141</td>\n",
       "      <td>20.7</td>\n",
       "      <td>19.0</td>\n",
       "      <td>0.179</td>\n",
       "      <td>4.4</td>\n",
       "      <td>Spirogyra</td>\n",
       "      <td>0</td>\n",
       "    </tr>\n",
       "    <tr>\n",
       "      <th>142</th>\n",
       "      <td>20.2</td>\n",
       "      <td>15.0</td>\n",
       "      <td>1.97</td>\n",
       "      <td>20.6</td>\n",
       "      <td>0.0722</td>\n",
       "      <td>15.4</td>\n",
       "      <td>3.95</td>\n",
       "      <td>22.9</td>\n",
       "      <td>20.6</td>\n",
       "      <td>18.8</td>\n",
       "      <td>...</td>\n",
       "      <td>0.33</td>\n",
       "      <td>0.411</td>\n",
       "      <td>0.0986</td>\n",
       "      <td>0.0141</td>\n",
       "      <td>20.7</td>\n",
       "      <td>19.0</td>\n",
       "      <td>0.179</td>\n",
       "      <td>4.4</td>\n",
       "      <td>Spirogyra</td>\n",
       "      <td>0</td>\n",
       "    </tr>\n",
       "    <tr>\n",
       "      <th>178</th>\n",
       "      <td>20.2</td>\n",
       "      <td>15.0</td>\n",
       "      <td>1.97</td>\n",
       "      <td>20.6</td>\n",
       "      <td>0.0722</td>\n",
       "      <td>15.4</td>\n",
       "      <td>3.95</td>\n",
       "      <td>22.9</td>\n",
       "      <td>20.6</td>\n",
       "      <td>18.8</td>\n",
       "      <td>...</td>\n",
       "      <td>0.33</td>\n",
       "      <td>0.411</td>\n",
       "      <td>0.0986</td>\n",
       "      <td>0.0141</td>\n",
       "      <td>20.7</td>\n",
       "      <td>19.0</td>\n",
       "      <td>0.179</td>\n",
       "      <td>4.4</td>\n",
       "      <td>Spirogyra</td>\n",
       "      <td>0</td>\n",
       "    </tr>\n",
       "    <tr>\n",
       "      <th>169</th>\n",
       "      <td>20.2</td>\n",
       "      <td>15.0</td>\n",
       "      <td>1.97</td>\n",
       "      <td>20.6</td>\n",
       "      <td>0.0722</td>\n",
       "      <td>15.4</td>\n",
       "      <td>3.95</td>\n",
       "      <td>22.9</td>\n",
       "      <td>20.6</td>\n",
       "      <td>18.8</td>\n",
       "      <td>...</td>\n",
       "      <td>0.33</td>\n",
       "      <td>0.411</td>\n",
       "      <td>0.0986</td>\n",
       "      <td>0.0141</td>\n",
       "      <td>20.7</td>\n",
       "      <td>19.0</td>\n",
       "      <td>0.179</td>\n",
       "      <td>4.4</td>\n",
       "      <td>Spirogyra</td>\n",
       "      <td>0</td>\n",
       "    </tr>\n",
       "    <tr>\n",
       "      <th>160</th>\n",
       "      <td>20.2</td>\n",
       "      <td>15.0</td>\n",
       "      <td>1.97</td>\n",
       "      <td>20.6</td>\n",
       "      <td>0.0722</td>\n",
       "      <td>15.4</td>\n",
       "      <td>3.95</td>\n",
       "      <td>22.9</td>\n",
       "      <td>20.6</td>\n",
       "      <td>18.8</td>\n",
       "      <td>...</td>\n",
       "      <td>0.33</td>\n",
       "      <td>0.411</td>\n",
       "      <td>0.0986</td>\n",
       "      <td>0.0141</td>\n",
       "      <td>20.7</td>\n",
       "      <td>19.0</td>\n",
       "      <td>0.179</td>\n",
       "      <td>4.4</td>\n",
       "      <td>Spirogyra</td>\n",
       "      <td>0</td>\n",
       "    </tr>\n",
       "    <tr>\n",
       "      <th>151</th>\n",
       "      <td>20.2</td>\n",
       "      <td>15.0</td>\n",
       "      <td>1.97</td>\n",
       "      <td>20.6</td>\n",
       "      <td>0.0722</td>\n",
       "      <td>15.4</td>\n",
       "      <td>3.95</td>\n",
       "      <td>22.9</td>\n",
       "      <td>20.6</td>\n",
       "      <td>18.8</td>\n",
       "      <td>...</td>\n",
       "      <td>0.33</td>\n",
       "      <td>0.411</td>\n",
       "      <td>0.0986</td>\n",
       "      <td>0.0141</td>\n",
       "      <td>20.7</td>\n",
       "      <td>19.0</td>\n",
       "      <td>0.179</td>\n",
       "      <td>4.4</td>\n",
       "      <td>Spirogyra</td>\n",
       "      <td>0</td>\n",
       "    </tr>\n",
       "    <tr>\n",
       "      <th>187</th>\n",
       "      <td>20.2</td>\n",
       "      <td>15.0</td>\n",
       "      <td>1.97</td>\n",
       "      <td>20.6</td>\n",
       "      <td>0.0722</td>\n",
       "      <td>15.4</td>\n",
       "      <td>3.95</td>\n",
       "      <td>22.9</td>\n",
       "      <td>20.6</td>\n",
       "      <td>18.8</td>\n",
       "      <td>...</td>\n",
       "      <td>0.33</td>\n",
       "      <td>0.411</td>\n",
       "      <td>0.0986</td>\n",
       "      <td>0.0141</td>\n",
       "      <td>20.7</td>\n",
       "      <td>19.0</td>\n",
       "      <td>0.179</td>\n",
       "      <td>4.4</td>\n",
       "      <td>Spirogyra</td>\n",
       "      <td>0</td>\n",
       "    </tr>\n",
       "    <tr>\n",
       "      <th>133</th>\n",
       "      <td>20.2</td>\n",
       "      <td>15.0</td>\n",
       "      <td>1.97</td>\n",
       "      <td>20.6</td>\n",
       "      <td>0.0722</td>\n",
       "      <td>15.4</td>\n",
       "      <td>3.95</td>\n",
       "      <td>22.9</td>\n",
       "      <td>20.6</td>\n",
       "      <td>18.8</td>\n",
       "      <td>...</td>\n",
       "      <td>0.33</td>\n",
       "      <td>0.411</td>\n",
       "      <td>0.0986</td>\n",
       "      <td>0.0141</td>\n",
       "      <td>20.7</td>\n",
       "      <td>19.0</td>\n",
       "      <td>0.179</td>\n",
       "      <td>4.4</td>\n",
       "      <td>Spirogyra</td>\n",
       "      <td>0</td>\n",
       "    </tr>\n",
       "    <tr>\n",
       "      <th>88</th>\n",
       "      <td>20.2</td>\n",
       "      <td>15.0</td>\n",
       "      <td>1.97</td>\n",
       "      <td>20.6</td>\n",
       "      <td>0.0722</td>\n",
       "      <td>15.4</td>\n",
       "      <td>3.95</td>\n",
       "      <td>22.9</td>\n",
       "      <td>20.6</td>\n",
       "      <td>18.8</td>\n",
       "      <td>...</td>\n",
       "      <td>0.33</td>\n",
       "      <td>0.411</td>\n",
       "      <td>0.0986</td>\n",
       "      <td>0.0141</td>\n",
       "      <td>20.7</td>\n",
       "      <td>19.0</td>\n",
       "      <td>0.179</td>\n",
       "      <td>4.4</td>\n",
       "      <td>Spirogyra</td>\n",
       "      <td>0</td>\n",
       "    </tr>\n",
       "    <tr>\n",
       "      <th>124</th>\n",
       "      <td>20.2</td>\n",
       "      <td>15.0</td>\n",
       "      <td>1.97</td>\n",
       "      <td>20.6</td>\n",
       "      <td>0.0722</td>\n",
       "      <td>15.4</td>\n",
       "      <td>3.95</td>\n",
       "      <td>22.9</td>\n",
       "      <td>20.6</td>\n",
       "      <td>18.8</td>\n",
       "      <td>...</td>\n",
       "      <td>0.33</td>\n",
       "      <td>0.411</td>\n",
       "      <td>0.0986</td>\n",
       "      <td>0.0141</td>\n",
       "      <td>20.7</td>\n",
       "      <td>19.0</td>\n",
       "      <td>0.179</td>\n",
       "      <td>4.4</td>\n",
       "      <td>Spirogyra</td>\n",
       "      <td>0</td>\n",
       "    </tr>\n",
       "    <tr>\n",
       "      <th>79</th>\n",
       "      <td>20.2</td>\n",
       "      <td>15.0</td>\n",
       "      <td>1.97</td>\n",
       "      <td>20.6</td>\n",
       "      <td>0.0722</td>\n",
       "      <td>15.4</td>\n",
       "      <td>3.95</td>\n",
       "      <td>22.9</td>\n",
       "      <td>20.6</td>\n",
       "      <td>18.8</td>\n",
       "      <td>...</td>\n",
       "      <td>0.33</td>\n",
       "      <td>0.411</td>\n",
       "      <td>0.0986</td>\n",
       "      <td>0.0141</td>\n",
       "      <td>20.7</td>\n",
       "      <td>19.0</td>\n",
       "      <td>0.179</td>\n",
       "      <td>4.4</td>\n",
       "      <td>Spirogyra</td>\n",
       "      <td>0</td>\n",
       "    </tr>\n",
       "    <tr>\n",
       "      <th>106</th>\n",
       "      <td>20.2</td>\n",
       "      <td>15.0</td>\n",
       "      <td>1.97</td>\n",
       "      <td>20.6</td>\n",
       "      <td>0.0722</td>\n",
       "      <td>15.4</td>\n",
       "      <td>3.95</td>\n",
       "      <td>22.9</td>\n",
       "      <td>20.6</td>\n",
       "      <td>18.8</td>\n",
       "      <td>...</td>\n",
       "      <td>0.33</td>\n",
       "      <td>0.411</td>\n",
       "      <td>0.0986</td>\n",
       "      <td>0.0141</td>\n",
       "      <td>20.7</td>\n",
       "      <td>19.0</td>\n",
       "      <td>0.179</td>\n",
       "      <td>4.4</td>\n",
       "      <td>Spirogyra</td>\n",
       "      <td>0</td>\n",
       "    </tr>\n",
       "    <tr>\n",
       "      <th>115</th>\n",
       "      <td>20.2</td>\n",
       "      <td>15.0</td>\n",
       "      <td>1.97</td>\n",
       "      <td>20.6</td>\n",
       "      <td>0.0722</td>\n",
       "      <td>15.4</td>\n",
       "      <td>3.95</td>\n",
       "      <td>22.9</td>\n",
       "      <td>20.6</td>\n",
       "      <td>18.8</td>\n",
       "      <td>...</td>\n",
       "      <td>0.33</td>\n",
       "      <td>0.411</td>\n",
       "      <td>0.0986</td>\n",
       "      <td>0.0141</td>\n",
       "      <td>20.7</td>\n",
       "      <td>19.0</td>\n",
       "      <td>0.179</td>\n",
       "      <td>4.4</td>\n",
       "      <td>Spirogyra</td>\n",
       "      <td>0</td>\n",
       "    </tr>\n",
       "  </tbody>\n",
       "</table>\n",
       "<p>13 rows × 26 columns</p>\n",
       "</div>"
      ],
      "text/plain": [
       "     Solidity  Eccentricity  EquivDiameter  Extrema  FilledArea  Extent  \\\n",
       "70       20.2          15.0           1.97     20.6      0.0722    15.4   \n",
       "142      20.2          15.0           1.97     20.6      0.0722    15.4   \n",
       "178      20.2          15.0           1.97     20.6      0.0722    15.4   \n",
       "169      20.2          15.0           1.97     20.6      0.0722    15.4   \n",
       "160      20.2          15.0           1.97     20.6      0.0722    15.4   \n",
       "151      20.2          15.0           1.97     20.6      0.0722    15.4   \n",
       "187      20.2          15.0           1.97     20.6      0.0722    15.4   \n",
       "133      20.2          15.0           1.97     20.6      0.0722    15.4   \n",
       "88       20.2          15.0           1.97     20.6      0.0722    15.4   \n",
       "124      20.2          15.0           1.97     20.6      0.0722    15.4   \n",
       "79       20.2          15.0           1.97     20.6      0.0722    15.4   \n",
       "106      20.2          15.0           1.97     20.6      0.0722    15.4   \n",
       "115      20.2          15.0           1.97     20.6      0.0722    15.4   \n",
       "\n",
       "     Orientation  EulerNumber  BoundingBox1  BoundingBox2  ...  \\\n",
       "70          3.95         22.9          20.6          18.8  ...   \n",
       "142         3.95         22.9          20.6          18.8  ...   \n",
       "178         3.95         22.9          20.6          18.8  ...   \n",
       "169         3.95         22.9          20.6          18.8  ...   \n",
       "160         3.95         22.9          20.6          18.8  ...   \n",
       "151         3.95         22.9          20.6          18.8  ...   \n",
       "187         3.95         22.9          20.6          18.8  ...   \n",
       "133         3.95         22.9          20.6          18.8  ...   \n",
       "88          3.95         22.9          20.6          18.8  ...   \n",
       "124         3.95         22.9          20.6          18.8  ...   \n",
       "79          3.95         22.9          20.6          18.8  ...   \n",
       "106         3.95         22.9          20.6          18.8  ...   \n",
       "115         3.95         22.9          20.6          18.8  ...   \n",
       "\n",
       "     MajorAxisLength  MinorAxisLength  Perimeter  ConvexArea  Centroid1  \\\n",
       "70              0.33            0.411     0.0986      0.0141       20.7   \n",
       "142             0.33            0.411     0.0986      0.0141       20.7   \n",
       "178             0.33            0.411     0.0986      0.0141       20.7   \n",
       "169             0.33            0.411     0.0986      0.0141       20.7   \n",
       "160             0.33            0.411     0.0986      0.0141       20.7   \n",
       "151             0.33            0.411     0.0986      0.0141       20.7   \n",
       "187             0.33            0.411     0.0986      0.0141       20.7   \n",
       "133             0.33            0.411     0.0986      0.0141       20.7   \n",
       "88              0.33            0.411     0.0986      0.0141       20.7   \n",
       "124             0.33            0.411     0.0986      0.0141       20.7   \n",
       "79              0.33            0.411     0.0986      0.0141       20.7   \n",
       "106             0.33            0.411     0.0986      0.0141       20.7   \n",
       "115             0.33            0.411     0.0986      0.0141       20.7   \n",
       "\n",
       "     Centroid2   Area  Raddi     Target  Target_int  \n",
       "70        19.0  0.179    4.4  Spirogyra           0  \n",
       "142       19.0  0.179    4.4  Spirogyra           0  \n",
       "178       19.0  0.179    4.4  Spirogyra           0  \n",
       "169       19.0  0.179    4.4  Spirogyra           0  \n",
       "160       19.0  0.179    4.4  Spirogyra           0  \n",
       "151       19.0  0.179    4.4  Spirogyra           0  \n",
       "187       19.0  0.179    4.4  Spirogyra           0  \n",
       "133       19.0  0.179    4.4  Spirogyra           0  \n",
       "88        19.0  0.179    4.4  Spirogyra           0  \n",
       "124       19.0  0.179    4.4  Spirogyra           0  \n",
       "79        19.0  0.179    4.4  Spirogyra           0  \n",
       "106       19.0  0.179    4.4  Spirogyra           0  \n",
       "115       19.0  0.179    4.4  Spirogyra           0  \n",
       "\n",
       "[13 rows x 26 columns]"
      ]
     },
     "execution_count": 7,
     "metadata": {},
     "output_type": "execute_result"
    }
   ],
   "source": [
    "spir = df[df['Target'] == 'Spirogyra'].sort_values(by=['Solidity'], ascending=False)\n",
    "dup2 = spir[(spir['Solidity'] == 20.20) & (spir['Eccentricity'] == 15.0)]\n",
    "dup2"
   ]
  },
  {
   "cell_type": "markdown",
   "id": "17925cea",
   "metadata": {},
   "source": [
    "**drop duplicates**"
   ]
  },
  {
   "cell_type": "code",
   "execution_count": 8,
   "id": "08233294",
   "metadata": {},
   "outputs": [
    {
     "data": {
      "text/plain": [
       "(4874, 26)"
      ]
     },
     "execution_count": 8,
     "metadata": {},
     "output_type": "execute_result"
    }
   ],
   "source": [
    "# drop duplicates aross all rows\n",
    "data = df.drop_duplicates() \n",
    "\n",
    "# unfortunately only 4874 entries were left after removing duplicates\n",
    "data.shape"
   ]
  },
  {
   "cell_type": "code",
   "execution_count": 9,
   "id": "c2741a62",
   "metadata": {},
   "outputs": [
    {
     "data": {
      "text/html": [
       "<div>\n",
       "<style scoped>\n",
       "    .dataframe tbody tr th:only-of-type {\n",
       "        vertical-align: middle;\n",
       "    }\n",
       "\n",
       "    .dataframe tbody tr th {\n",
       "        vertical-align: top;\n",
       "    }\n",
       "\n",
       "    .dataframe thead th {\n",
       "        text-align: right;\n",
       "    }\n",
       "</style>\n",
       "<table border=\"1\" class=\"dataframe\">\n",
       "  <thead>\n",
       "    <tr style=\"text-align: right;\">\n",
       "      <th></th>\n",
       "      <th>Solidity</th>\n",
       "      <th>Eccentricity</th>\n",
       "      <th>EquivDiameter</th>\n",
       "      <th>Extrema</th>\n",
       "      <th>FilledArea</th>\n",
       "      <th>Extent</th>\n",
       "      <th>Orientation</th>\n",
       "      <th>EulerNumber</th>\n",
       "      <th>BoundingBox1</th>\n",
       "      <th>BoundingBox2</th>\n",
       "      <th>...</th>\n",
       "      <th>MajorAxisLength</th>\n",
       "      <th>MinorAxisLength</th>\n",
       "      <th>Perimeter</th>\n",
       "      <th>ConvexArea</th>\n",
       "      <th>Centroid1</th>\n",
       "      <th>Centroid2</th>\n",
       "      <th>Area</th>\n",
       "      <th>Raddi</th>\n",
       "      <th>Target</th>\n",
       "      <th>Target_int</th>\n",
       "    </tr>\n",
       "  </thead>\n",
       "  <tbody>\n",
       "    <tr>\n",
       "      <th>4159</th>\n",
       "      <td>6.80</td>\n",
       "      <td>21.7</td>\n",
       "      <td>2.67</td>\n",
       "      <td>12.40</td>\n",
       "      <td>0.1270</td>\n",
       "      <td>3.84</td>\n",
       "      <td>1.530</td>\n",
       "      <td>22.7</td>\n",
       "      <td>12.20</td>\n",
       "      <td>12.20</td>\n",
       "      <td>...</td>\n",
       "      <td>1.430</td>\n",
       "      <td>0.780</td>\n",
       "      <td>0.496</td>\n",
       "      <td>0.0752</td>\n",
       "      <td>12.40</td>\n",
       "      <td>13.40</td>\n",
       "      <td>0.3230</td>\n",
       "      <td>4.37</td>\n",
       "      <td>Volvox</td>\n",
       "      <td>0</td>\n",
       "    </tr>\n",
       "    <tr>\n",
       "      <th>29159</th>\n",
       "      <td>16.00</td>\n",
       "      <td>16.0</td>\n",
       "      <td>4.07</td>\n",
       "      <td>18.40</td>\n",
       "      <td>0.3660</td>\n",
       "      <td>11.30</td>\n",
       "      <td>21.500</td>\n",
       "      <td>22.5</td>\n",
       "      <td>18.10</td>\n",
       "      <td>18.40</td>\n",
       "      <td>...</td>\n",
       "      <td>0.824</td>\n",
       "      <td>0.977</td>\n",
       "      <td>0.278</td>\n",
       "      <td>0.0741</td>\n",
       "      <td>18.40</td>\n",
       "      <td>19.20</td>\n",
       "      <td>0.7400</td>\n",
       "      <td>4.89</td>\n",
       "      <td>Ulothrix</td>\n",
       "      <td>1</td>\n",
       "    </tr>\n",
       "    <tr>\n",
       "      <th>5020</th>\n",
       "      <td>16.20</td>\n",
       "      <td>16.2</td>\n",
       "      <td>3.35</td>\n",
       "      <td>20.00</td>\n",
       "      <td>0.2150</td>\n",
       "      <td>11.60</td>\n",
       "      <td>3.190</td>\n",
       "      <td>22.7</td>\n",
       "      <td>19.90</td>\n",
       "      <td>9.98</td>\n",
       "      <td>...</td>\n",
       "      <td>0.635</td>\n",
       "      <td>0.743</td>\n",
       "      <td>0.287</td>\n",
       "      <td>0.0496</td>\n",
       "      <td>20.10</td>\n",
       "      <td>10.60</td>\n",
       "      <td>0.5030</td>\n",
       "      <td>6.64</td>\n",
       "      <td>Pithophora</td>\n",
       "      <td>0</td>\n",
       "    </tr>\n",
       "    <tr>\n",
       "      <th>19435</th>\n",
       "      <td>11.00</td>\n",
       "      <td>22.0</td>\n",
       "      <td>3.31</td>\n",
       "      <td>4.85</td>\n",
       "      <td>0.1950</td>\n",
       "      <td>9.14</td>\n",
       "      <td>0.259</td>\n",
       "      <td>22.5</td>\n",
       "      <td>4.88</td>\n",
       "      <td>8.40</td>\n",
       "      <td>...</td>\n",
       "      <td>1.230</td>\n",
       "      <td>0.595</td>\n",
       "      <td>0.699</td>\n",
       "      <td>0.0712</td>\n",
       "      <td>4.97</td>\n",
       "      <td>9.53</td>\n",
       "      <td>0.4920</td>\n",
       "      <td>8.73</td>\n",
       "      <td>Protozoa</td>\n",
       "      <td>0</td>\n",
       "    </tr>\n",
       "    <tr>\n",
       "      <th>16821</th>\n",
       "      <td>8.12</td>\n",
       "      <td>20.2</td>\n",
       "      <td>1.30</td>\n",
       "      <td>18.10</td>\n",
       "      <td>0.0323</td>\n",
       "      <td>4.96</td>\n",
       "      <td>5.540</td>\n",
       "      <td>22.9</td>\n",
       "      <td>18.00</td>\n",
       "      <td>16.30</td>\n",
       "      <td>...</td>\n",
       "      <td>0.460</td>\n",
       "      <td>0.357</td>\n",
       "      <td>0.226</td>\n",
       "      <td>0.0158</td>\n",
       "      <td>18.20</td>\n",
       "      <td>16.60</td>\n",
       "      <td>0.0807</td>\n",
       "      <td>3.24</td>\n",
       "      <td>Aspergillus sp</td>\n",
       "      <td>0</td>\n",
       "    </tr>\n",
       "  </tbody>\n",
       "</table>\n",
       "<p>5 rows × 26 columns</p>\n",
       "</div>"
      ],
      "text/plain": [
       "       Solidity  Eccentricity  EquivDiameter  Extrema  FilledArea  Extent  \\\n",
       "4159       6.80          21.7           2.67    12.40      0.1270    3.84   \n",
       "29159     16.00          16.0           4.07    18.40      0.3660   11.30   \n",
       "5020      16.20          16.2           3.35    20.00      0.2150   11.60   \n",
       "19435     11.00          22.0           3.31     4.85      0.1950    9.14   \n",
       "16821      8.12          20.2           1.30    18.10      0.0323    4.96   \n",
       "\n",
       "       Orientation  EulerNumber  BoundingBox1  BoundingBox2  ...  \\\n",
       "4159         1.530         22.7         12.20         12.20  ...   \n",
       "29159       21.500         22.5         18.10         18.40  ...   \n",
       "5020         3.190         22.7         19.90          9.98  ...   \n",
       "19435        0.259         22.5          4.88          8.40  ...   \n",
       "16821        5.540         22.9         18.00         16.30  ...   \n",
       "\n",
       "       MajorAxisLength  MinorAxisLength  Perimeter  ConvexArea  Centroid1  \\\n",
       "4159             1.430            0.780      0.496      0.0752      12.40   \n",
       "29159            0.824            0.977      0.278      0.0741      18.40   \n",
       "5020             0.635            0.743      0.287      0.0496      20.10   \n",
       "19435            1.230            0.595      0.699      0.0712       4.97   \n",
       "16821            0.460            0.357      0.226      0.0158      18.20   \n",
       "\n",
       "       Centroid2    Area  Raddi          Target  Target_int  \n",
       "4159       13.40  0.3230   4.37          Volvox           0  \n",
       "29159      19.20  0.7400   4.89        Ulothrix           1  \n",
       "5020       10.60  0.5030   6.64      Pithophora           0  \n",
       "19435       9.53  0.4920   8.73        Protozoa           0  \n",
       "16821      16.60  0.0807   3.24  Aspergillus sp           0  \n",
       "\n",
       "[5 rows x 26 columns]"
      ]
     },
     "execution_count": 9,
     "metadata": {},
     "output_type": "execute_result"
    }
   ],
   "source": [
    "data.sample(5)"
   ]
  },
  {
   "cell_type": "code",
   "execution_count": 10,
   "id": "fd6bf63f",
   "metadata": {},
   "outputs": [
    {
     "data": {
      "text/plain": [
       "0    3243\n",
       "1    1631\n",
       "Name: Target_int, dtype: int64"
      ]
     },
     "execution_count": 10,
     "metadata": {},
     "output_type": "execute_result"
    }
   ],
   "source": [
    "# 30% postive -- 'Ulothrix'\n",
    "# 70% negative -- 'others'\n",
    "data.Target_int.value_counts()"
   ]
  },
  {
   "cell_type": "code",
   "execution_count": 11,
   "id": "5ab73a31",
   "metadata": {},
   "outputs": [
    {
     "data": {
      "text/plain": [
       "Index(['Solidity', 'Eccentricity', 'EquivDiameter', 'Extrema', 'FilledArea',\n",
       "       'Extent', 'Orientation', 'EulerNumber', 'BoundingBox1', 'BoundingBox2',\n",
       "       'BoundingBox3', 'BoundingBox4', 'ConvexHull1', 'ConvexHull2',\n",
       "       'ConvexHull3', 'ConvexHull4', 'MajorAxisLength', 'MinorAxisLength',\n",
       "       'Perimeter', 'ConvexArea', 'Centroid1', 'Centroid2', 'Area', 'Raddi',\n",
       "       'Target', 'Target_int'],\n",
       "      dtype='object')"
      ]
     },
     "execution_count": 11,
     "metadata": {},
     "output_type": "execute_result"
    }
   ],
   "source": [
    "data.columns"
   ]
  },
  {
   "cell_type": "markdown",
   "id": "8f6b617e",
   "metadata": {},
   "source": [
    "## Part 2. Split data"
   ]
  },
  {
   "cell_type": "markdown",
   "id": "a189aab4",
   "metadata": {},
   "source": [
    "### a. Split data and apply scaler (knn and logistric regression)"
   ]
  },
  {
   "cell_type": "code",
   "execution_count": 12,
   "id": "ce9303e7",
   "metadata": {},
   "outputs": [],
   "source": [
    "# select X and Y features\n",
    "X = data.drop(columns=['Target','Target_int', \\\n",
    "                       'BoundingBox1', 'BoundingBox2',\\\n",
    "                       'EulerNumber', 'Extrema',\\\n",
    "                       'ConvexHull1', 'ConvexHull2', 'ConvexHull3', 'ConvexHull4'])\n",
    "y = data['Target_int']\n",
    "\n",
    "# split data into training and testing sets 80% train, 20% test \n",
    "X_train, X_test, y_train, y_test = train_test_split(X, y, test_size=0.2, random_state=42, stratify=y)\n",
    "\n",
    "# split data into 5 folds\n",
    "kf = StratifiedKFold(n_splits=5, shuffle=True, random_state=42) \n",
    "\n",
    "# scale data for knn and logistic regression\n",
    "std_scale = StandardScaler()\n",
    " \n",
    "# apply scale\n",
    "X_tr_scaled = std_scale.fit_transform(X_train)\n",
    "X_te_scaled = std_scale.fit_transform(X_test)"
   ]
  },
  {
   "cell_type": "code",
   "execution_count": 13,
   "id": "424b0472",
   "metadata": {},
   "outputs": [
    {
     "data": {
      "text/plain": [
       "(3899,)"
      ]
     },
     "execution_count": 13,
     "metadata": {},
     "output_type": "execute_result"
    }
   ],
   "source": [
    "y_train.shape"
   ]
  },
  {
   "cell_type": "code",
   "execution_count": 14,
   "id": "d8442e8c",
   "metadata": {},
   "outputs": [
    {
     "data": {
      "text/plain": [
       "0    2594\n",
       "1    1305\n",
       "Name: Target_int, dtype: int64"
      ]
     },
     "execution_count": 14,
     "metadata": {},
     "output_type": "execute_result"
    }
   ],
   "source": [
    "y_train.value_counts()"
   ]
  },
  {
   "cell_type": "markdown",
   "id": "4104a979",
   "metadata": {},
   "source": [
    "### b. Handle imbalanced data"
   ]
  },
  {
   "cell_type": "code",
   "execution_count": 15,
   "id": "3fef45b8",
   "metadata": {},
   "outputs": [
    {
     "name": "stderr",
     "output_type": "stream",
     "text": [
      "/Users/jinglee/opt/anaconda3/lib/python3.9/site-packages/imblearn/utils/_validation.py:318: UserWarning: After over-sampling, the number of samples (2610) in class 1 will be larger than the number of samples in the majority class (class #0 -> 2594)\n",
      "  warnings.warn(\n"
     ]
    }
   ],
   "source": [
    "# oversampling data using SMOTE\n",
    "# only sample training data\n",
    "# setup for the ratio argument of RandomOverSampler initialization\n",
    "n_pos = np.sum(y_train == 1)\n",
    "n_neg = np.sum(y_train == 0)\n",
    "\n",
    "# create 2x positive calss\n",
    "ratio = {1:n_pos*2, 0:n_neg} \n",
    " \n",
    "# randomly oversample positive samples: create 4x as many \n",
    "ROS = (imblearn.over_sampling.RandomOverSampler(\n",
    "    sampling_strategy = ratio, random_state=42))\n",
    "    \n",
    "X_tr_rs, y_tr_rs = ROS.fit_resample(X_tr_scaled, y_train)\n",
    "\n",
    "#smote\n",
    "#smote = (imblearn.over_sampling.SMOTE(\n",
    "    #sampling_strategy=ratio, random_state=42))\n",
    "    \n",
    "#X_tr_smote, y_tr_smote = smote.fit_resample(X_tr_scaled, y_train)"
   ]
  },
  {
   "cell_type": "code",
   "execution_count": 16,
   "id": "c000d6d8",
   "metadata": {},
   "outputs": [
    {
     "data": {
      "text/plain": [
       "(5204,)"
      ]
     },
     "execution_count": 16,
     "metadata": {},
     "output_type": "execute_result"
    }
   ],
   "source": [
    "y_tr_rs.shape"
   ]
  },
  {
   "cell_type": "code",
   "execution_count": 17,
   "id": "52b859b0",
   "metadata": {},
   "outputs": [
    {
     "data": {
      "text/plain": [
       "1    2610\n",
       "0    2594\n",
       "Name: Target_int, dtype: int64"
      ]
     },
     "execution_count": 17,
     "metadata": {},
     "output_type": "execute_result"
    }
   ],
   "source": [
    "y_tr_rs.value_counts()"
   ]
  },
  {
   "cell_type": "markdown",
   "id": "6b68854f",
   "metadata": {},
   "source": [
    "### Part 2b. Comparing balanced vs imbalanced datasets"
   ]
  },
  {
   "cell_type": "code",
   "execution_count": 18,
   "id": "d4cc182d",
   "metadata": {},
   "outputs": [],
   "source": [
    "models_dict = {'knn':KNeighborsClassifier(n_neighbors=3),\\\n",
    "               'logReg':LogisticRegression(C=100, max_iter=500),\\\n",
    "               'Random forests': RandomForestClassifier(random_state=42),\\\n",
    "               'Gradient boosted':GradientBoostingClassifier(random_state =42)}"
   ]
  },
  {
   "cell_type": "code",
   "execution_count": 19,
   "id": "bd36ae5f",
   "metadata": {},
   "outputs": [],
   "source": [
    "def calculate_scores(model, X_train, y_train):\n",
    "    \n",
    "    score_type = {}\n",
    "    scoring = [\"accuracy\", \"precision\", \"recall\", \"f1\", 'roc_auc']\n",
    "    for i in scoring:\n",
    "        score = cross_val_score(model, X_train, y_train, cv=kf, scoring=i)\n",
    "        meanScore = round(np.mean(score), 3)\n",
    "        score_type[i] = meanScore\n",
    "    \n",
    "    return score_type\n",
    "\n",
    "\n",
    "def baseline_model_results(X_train, y_train):\n",
    "    my_dict ={}\n",
    "    \n",
    "    for name, model in models_dict.items():    \n",
    "        print('calculating', name)\n",
    "        model.fit(X_train, y_train)\n",
    "\n",
    "        my_dict[name] = calculate_scores(model, X_train, y_train)\n",
    "        \n",
    "    return my_dict"
   ]
  },
  {
   "cell_type": "code",
   "execution_count": null,
   "id": "e3263516",
   "metadata": {},
   "outputs": [],
   "source": [
    "# not balanced data (scaled data)\n",
    "baseline_model_results(X_train=X_tr_scaled, y_train=y_train)"
   ]
  },
  {
   "cell_type": "code",
   "execution_count": null,
   "id": "cc123859",
   "metadata": {},
   "outputs": [],
   "source": [
    "# OVERsample : balanced data with oversampling (scaled data)\n",
    "baseline_model_results(X_train=X_tr_rs, y_train=y_tr_rs)"
   ]
  },
  {
   "cell_type": "code",
   "execution_count": null,
   "id": "c221c9be",
   "metadata": {},
   "outputs": [],
   "source": [
    "# SMOTE: balanced with oversampling on scaled data\n",
    "#baseline_model_results(X_train=X_tr_smote, y_train=y_tr_smote)"
   ]
  },
  {
   "cell_type": "markdown",
   "id": "1902ea86",
   "metadata": {},
   "source": [
    "**You chose oversampling data based on f1 score and roc_auc score**"
   ]
  },
  {
   "cell_type": "markdown",
   "id": "98e6f281",
   "metadata": {},
   "source": [
    "## Part 3. Baseline models"
   ]
  },
  {
   "cell_type": "markdown",
   "id": "0f463026",
   "metadata": {},
   "source": [
    "### Functions"
   ]
  },
  {
   "cell_type": "code",
   "execution_count": 20,
   "id": "6a10529c",
   "metadata": {},
   "outputs": [],
   "source": [
    "def baseline_model_balanced(model):\n",
    "    # test accuracy\n",
    "    testAccuracy = model.score(X_te_scaled, y_test)\n",
    "    \n",
    "    # score model on train set\n",
    "    trainAccuracy = model.score(X_tr_rs, y_tr_rs)\n",
    "    \n",
    "    score_dict = ({\"Train accuracy no val\": round(trainAccuracy,3), \n",
    "                   \"Test accuracy\": round(testAccuracy,3)})\n",
    "    \n",
    "    scoring = [\"accuracy\", \"precision\", \"recall\", \"f1\", 'roc_auc']\n",
    "    for i in scoring:\n",
    "        score = cross_val_score(model, X_tr_rs, y_tr_rs, cv=kf, scoring=i)\n",
    "        meanScore = round(np.mean(score), 3)\n",
    "        score_dict[i] = meanScore\n",
    "        \n",
    "    return score_dict"
   ]
  },
  {
   "cell_type": "code",
   "execution_count": 21,
   "id": "9c69b86c",
   "metadata": {},
   "outputs": [],
   "source": [
    "# test scores\n",
    "def test_scores(y_pred, y_test):\n",
    "\n",
    "    accuracy = round(accuracy_score(y_test, y_pred), 3)\n",
    "    precision = round(precision_score(y_test, y_pred), 3)\n",
    "    recall = round(recall_score(y_test, y_pred), 3)\n",
    "    f1 = round(f1_score(y_test, y_pred), 3)\n",
    "    \n",
    "    print('Test scores: ')\n",
    "    \n",
    "    test_scores = ({'accuracy':accuracy,\n",
    "               'precision':precision,\n",
    "              'recall':recall,\n",
    "              'f1':f1})\n",
    "    \n",
    "    return test_scores"
   ]
  },
  {
   "cell_type": "code",
   "execution_count": 22,
   "id": "efd271fb",
   "metadata": {},
   "outputs": [],
   "source": [
    "def map_confusion_matrix(y, y_pred, modelName, dataType):\n",
    "    \n",
    "    CM = confusion_matrix(y, y_pred)\n",
    "    \n",
    "    # heat map confusion matirx\n",
    "    labels = ['Other', 'Ulothrix']\n",
    "    plt.figure(dpi=100)\n",
    "    sns.heatmap(CM/np.sum(CM), fmt='0.2%', cmap=\"Blues\", \n",
    "                annot=True, square=True, \n",
    "                xticklabels = labels, yticklabels = labels)\n",
    "\n",
    "    plt.xlabel('Predicted')\n",
    "    plt.ylabel('Actual')\n",
    "    plt.title('Confusion matrix {} ({} set)'.format(modelName, dataType))"
   ]
  },
  {
   "cell_type": "markdown",
   "id": "d52dd5af",
   "metadata": {},
   "source": [
    "### Model 1. kNN "
   ]
  },
  {
   "cell_type": "code",
   "execution_count": 45,
   "id": "deed73c1",
   "metadata": {},
   "outputs": [
    {
     "data": {
      "text/plain": [
       "{'Train accuracy no val': 0.912,\n",
       " 'Test accuracy': 0.752,\n",
       " 'accuracy': 0.788,\n",
       " 'precision': 0.758,\n",
       " 'recall': 0.849,\n",
       " 'f1': 0.801,\n",
       " 'roc_auc': 0.862}"
      ]
     },
     "execution_count": 45,
     "metadata": {},
     "output_type": "execute_result"
    }
   ],
   "source": [
    "knn = KNeighborsClassifier(n_neighbors=3).fit(X_tr_rs, y_tr_rs)\n",
    "baseline_model_balanced(knn)"
   ]
  },
  {
   "cell_type": "code",
   "execution_count": 32,
   "id": "bd041e71",
   "metadata": {},
   "outputs": [
    {
     "name": "stdout",
     "output_type": "stream",
     "text": [
      "Test scores: \n",
      "{'accuracy': 0.335, 'precision': 0.335, 'recall': 1.0, 'f1': 0.502}\n"
     ]
    },
    {
     "data": {
      "image/png": "[encoded data removed]",
      "text/plain": [
       "<Figure size 600x400 with 2 Axes>"
      ]
     },
     "metadata": {
      "needs_background": "light"
     },
     "output_type": "display_data"
    }
   ],
   "source": [
    "# test data\n",
    "# predict test scaled\n",
    "y_pred = knn.predict(X_te_scaled)\n",
    "print(test_scores(y_pred, y_test))\n",
    "\n",
    "map_confusion_matrix(y_test, y_pred, 'kNN', 'Test')"
   ]
  },
  {
   "cell_type": "markdown",
   "id": "58b202d0",
   "metadata": {},
   "source": [
    "### Tuning hyperparameters kNN"
   ]
  },
  {
   "cell_type": "code",
   "execution_count": null,
   "id": "53312f8c",
   "metadata": {},
   "outputs": [],
   "source": [
    "# set model\n",
    "knn = KNeighborsClassifier()\n",
    "knn.fit(X_train, y_train)\n",
    "\n",
    "# find optimal k\n",
    "k_range = list(range(3, 11))\n",
    "\n",
    "# create a parameter grid: map the parameter names to the values that should be searched\n",
    "param_grid = dict(n_neighbors=k_range)\n",
    "\n",
    "# instantiate the grid\n",
    "grid = GridSearchCV(knn, param_grid, cv=kf, scoring='f1')\n",
    "\n",
    "# fit the grid on train sets\n",
    "grid.fit(X_train, y_train)\n",
    "\n",
    "# examine the best model\n",
    "print(\"Best params: \", grid.best_params_)\n",
    "print(\"Best estimator: \", grid.best_estimator_)\n",
    "print(\"Best score: \", grid.best_score_)"
   ]
  },
  {
   "cell_type": "markdown",
   "id": "94bb5122",
   "metadata": {},
   "source": [
    "### Model 2. Logistic regresssion"
   ]
  },
  {
   "cell_type": "code",
   "execution_count": 46,
   "id": "38b48a66",
   "metadata": {},
   "outputs": [
    {
     "data": {
      "text/plain": [
       "{'Train accuracy no val': 0.682,\n",
       " 'Test accuracy': 0.661,\n",
       " 'accuracy': 0.678,\n",
       " 'precision': 0.683,\n",
       " 'recall': 0.668,\n",
       " 'f1': 0.675,\n",
       " 'roc_auc': 0.738}"
      ]
     },
     "execution_count": 46,
     "metadata": {},
     "output_type": "execute_result"
    }
   ],
   "source": [
    "logReg = LogisticRegression(C=100, max_iter=500).fit(X_tr_rs, y_tr_rs)\n",
    "baseline_model_balanced(logReg)"
   ]
  },
  {
   "cell_type": "code",
   "execution_count": 34,
   "id": "84bbd896",
   "metadata": {},
   "outputs": [
    {
     "name": "stdout",
     "output_type": "stream",
     "text": [
      "Test scores: \n",
      "{'accuracy': 0.661, 'precision': 0.494, 'recall': 0.644, 'f1': 0.559}\n"
     ]
    },
    {
     "data": {
      "image/png": "[encoded data removed]",
      "text/plain": [
       "<Figure size 600x400 with 2 Axes>"
      ]
     },
     "metadata": {
      "needs_background": "light"
     },
     "output_type": "display_data"
    }
   ],
   "source": [
    "y_pred = logReg.predict(X_te_scaled)\n",
    "print(test_scores(y_pred, y_test))\n",
    "map_confusion_matrix(y_test, y_pred, 'Logistic regression', 'Test')"
   ]
  },
  {
   "cell_type": "markdown",
   "id": "8c076fdf",
   "metadata": {},
   "source": [
    "### Tree models as baseline"
   ]
  },
  {
   "cell_type": "code",
   "execution_count": 28,
   "id": "0f9436e5",
   "metadata": {},
   "outputs": [
    {
     "data": {
      "text/plain": [
       "{'Train accuracy no val': 1.0,\n",
       " 'Test accuracy': 0.733,\n",
       " 'accuracy': 0.854,\n",
       " 'precision': 0.82,\n",
       " 'recall': 0.911,\n",
       " 'f1': 0.867,\n",
       " 'roc_auc': 0.856}"
      ]
     },
     "execution_count": 28,
     "metadata": {},
     "output_type": "execute_result"
    }
   ],
   "source": [
    "# decision tree\n",
    "d_tree = DecisionTreeClassifier().fit(X_tr_rs, y_tr_rs)\n",
    "baseline_model_balanced(d_tree)"
   ]
  },
  {
   "cell_type": "code",
   "execution_count": null,
   "id": "371ddb17",
   "metadata": {},
   "outputs": [],
   "source": [
    "d_tree.get_depth()"
   ]
  },
  {
   "cell_type": "code",
   "execution_count": null,
   "id": "a50b0f66",
   "metadata": {},
   "outputs": [],
   "source": [
    "d_tree.get_n_leaves()"
   ]
  },
  {
   "cell_type": "code",
   "execution_count": null,
   "id": "4e47b551",
   "metadata": {},
   "outputs": [],
   "source": [
    "d_tree.get_params(deep=True)"
   ]
  },
  {
   "cell_type": "markdown",
   "id": "d2b3377e",
   "metadata": {},
   "source": [
    "### Model 3. Random forests"
   ]
  },
  {
   "cell_type": "code",
   "execution_count": 29,
   "id": "b138e50a",
   "metadata": {},
   "outputs": [
    {
     "data": {
      "text/plain": [
       "{'Train accuracy no val': 1.0,\n",
       " 'Test accuracy': 0.8,\n",
       " 'accuracy': 0.897,\n",
       " 'precision': 0.879,\n",
       " 'recall': 0.923,\n",
       " 'f1': 0.9,\n",
       " 'roc_auc': 0.964}"
      ]
     },
     "execution_count": 29,
     "metadata": {},
     "output_type": "execute_result"
    }
   ],
   "source": [
    "rf = RandomForestClassifier(random_state=42).fit(X_tr_rs, y_tr_rs)\n",
    "baseline_model_balanced(rf)"
   ]
  },
  {
   "cell_type": "code",
   "execution_count": null,
   "id": "1a60a550",
   "metadata": {},
   "outputs": [],
   "source": [
    "# train\n",
    "y_pred = rf.predict(X_tr_rs)\n",
    "map_confusion_matrix(y_test, y_tr_rs, y_pred, 'Random forests', 'Train')"
   ]
  },
  {
   "cell_type": "code",
   "execution_count": 35,
   "id": "be575b7d",
   "metadata": {},
   "outputs": [
    {
     "name": "stdout",
     "output_type": "stream",
     "text": [
      "Test scores: \n",
      "{'accuracy': 0.8, 'precision': 0.724, 'recall': 0.65, 'f1': 0.685}\n"
     ]
    },
    {
     "data": {
      "image/png": "[encoded data removed]",
      "text/plain": [
       "<Figure size 600x400 with 2 Axes>"
      ]
     },
     "metadata": {
      "needs_background": "light"
     },
     "output_type": "display_data"
    }
   ],
   "source": [
    "# test data - trained with resampled data\n",
    "y_pred = rf.predict(X_te_scaled)\n",
    "print(test_scores(y_pred, y_test))\n",
    "map_confusion_matrix(y_test, y_pred, 'Random forests', 'Test')"
   ]
  },
  {
   "cell_type": "markdown",
   "id": "26c6a938",
   "metadata": {},
   "source": [
    "**Model is too good predicting negative class vs positive class**"
   ]
  },
  {
   "cell_type": "markdown",
   "id": "b9cb25ae",
   "metadata": {},
   "source": [
    "#### Feature importance Random forests"
   ]
  },
  {
   "cell_type": "code",
   "execution_count": 40,
   "id": "bf36ea82",
   "metadata": {},
   "outputs": [],
   "source": [
    "results = permutation_importance(rf, X_tr_rs, y_tr_rs, random_state=42)"
   ]
  },
  {
   "cell_type": "code",
   "execution_count": 41,
   "id": "aff9d447",
   "metadata": {},
   "outputs": [],
   "source": [
    "forest_importances = pd.Series(results.importances_mean, index=X_train.columns).sort_values(ascending=False)"
   ]
  },
  {
   "cell_type": "code",
   "execution_count": 42,
   "id": "2d1893e1",
   "metadata": {},
   "outputs": [
    {
     "data": {
      "text/plain": [
       "Text(0.5, 0, 'Mean accuracy decrease')"
      ]
     },
     "execution_count": 42,
     "metadata": {},
     "output_type": "execute_result"
    },
    {
     "data": {
      "image/png": "[encoded data removed]",
      "text/plain": [
       "<Figure size 800x500 with 1 Axes>"
      ]
     },
     "metadata": {
      "needs_background": "light"
     },
     "output_type": "display_data"
    }
   ],
   "source": [
    "# plot feature importance\n",
    "plt.figure(figsize=(8,5), dpi=100)\n",
    "forest_importances.plot.barh(color='orange')\n",
    "\n",
    "plt.title(\"Random forests feature importance using permutation\")\n",
    "plt.gca().invert_yaxis()\n",
    "plt.xlabel(\"Mean accuracy decrease\")"
   ]
  },
  {
   "cell_type": "markdown",
   "id": "0903535f",
   "metadata": {},
   "source": [
    "#### Tuning hyperparameters Random Forests with GridSearch"
   ]
  },
  {
   "cell_type": "code",
   "execution_count": null,
   "id": "2b673a0f",
   "metadata": {},
   "outputs": [],
   "source": [
    "# takes very long!!\n",
    "# instantiate model\n",
    "rf = RandomForestClassifier(random_state=42)\n",
    "rf.fit(X_train, y_train)\n",
    "\n",
    "n_estimators = [50, 100, 200, 300, 500] #100\n",
    "max_depth = [5, 10, 15, 25, 30] #none\n",
    "min_samples_split = [2, 8, 10, 20, 50] #2\n",
    "min_samples_leaf = [1, 4, 6, 10] #1\n",
    "\n",
    "param_grid = dict(n_estimators=n_estimators, max_depth=max_depth,  \n",
    "              min_samples_split = min_samples_split, \n",
    "             min_samples_leaf = min_samples_leaf)\n",
    "\n",
    "grid = GridSearchCV(rf, param_grid, cv=2, verbose=1, scoring='f1')\n",
    "\n",
    "# fit the grid with entire datasets\n",
    "grid.fit(X_train, y_train)\n",
    "\n",
    "# examine the best model\n",
    "print(\"Best params: \", grid.best_params_)\n",
    "print(\"Best estimator: \", grid.best_estimator_)\n",
    "print(\"Best score: \", grid.best_score_)"
   ]
  },
  {
   "cell_type": "markdown",
   "id": "39ca7e9a",
   "metadata": {},
   "source": [
    "### Model 4. GBM"
   ]
  },
  {
   "cell_type": "code",
   "execution_count": 37,
   "id": "105e600e",
   "metadata": {},
   "outputs": [
    {
     "data": {
      "text/plain": [
       "{'Train accuracy no val': 0.849,\n",
       " 'Test accuracy': 0.734,\n",
       " 'accuracy': 0.807,\n",
       " 'precision': 0.788,\n",
       " 'recall': 0.841,\n",
       " 'f1': 0.814,\n",
       " 'roc_auc': 0.893}"
      ]
     },
     "execution_count": 37,
     "metadata": {},
     "output_type": "execute_result"
    }
   ],
   "source": [
    "gbm = GradientBoostingClassifier(random_state =42).fit(X_tr_rs, y_tr_rs)\n",
    "baseline_model_balanced(gbm)"
   ]
  },
  {
   "cell_type": "code",
   "execution_count": 39,
   "id": "a8a18a6e",
   "metadata": {},
   "outputs": [
    {
     "name": "stdout",
     "output_type": "stream",
     "text": [
      "Test scores: \n",
      "{'accuracy': 0.734, 'precision': 0.581, 'recall': 0.736, 'f1': 0.65}\n"
     ]
    },
    {
     "data": {
      "image/png": "[encoded data removed]",
      "text/plain": [
       "<Figure size 600x400 with 2 Axes>"
      ]
     },
     "metadata": {
      "needs_background": "light"
     },
     "output_type": "display_data"
    }
   ],
   "source": [
    "# test data\n",
    "y_pred = gbm.predict(X_te_scaled)\n",
    "print(test_scores(y_pred, y_test))\n",
    "\n",
    "map_confusion_matrix(y_test, y_pred, 'GBM', 'Test')"
   ]
  },
  {
   "cell_type": "markdown",
   "id": "bac9be0b",
   "metadata": {},
   "source": [
    "### Comparing models"
   ]
  },
  {
   "cell_type": "code",
   "execution_count": 52,
   "id": "18faae53",
   "metadata": {},
   "outputs": [
    {
     "data": {
      "text/plain": [
       "<matplotlib.legend.Legend at 0x7fdfcb7f34c0>"
      ]
     },
     "execution_count": 52,
     "metadata": {},
     "output_type": "execute_result"
    },
    {
     "data": {
      "image/png": "[encoded data removed]",
      "text/plain": [
       "<Figure size 600x400 with 1 Axes>"
      ]
     },
     "metadata": {
      "needs_background": "light"
     },
     "output_type": "display_data"
    }
   ],
   "source": [
    "# roc curve train data - not balanced\n",
    "plt.figure(figsize = [6,4], dpi=100)\n",
    "\n",
    "fpr, tpr, thresholds = roc_curve(y_train, rf.predict_proba(X_tr_scaled)[:,1])\n",
    "plt.plot(fpr, tpr)\n",
    "\n",
    "fpr, tpr, thresholds = roc_curve(y_train, knn.predict_proba(X_tr_scaled)[:,1])\n",
    "plt.plot(fpr, tpr)\n",
    "\n",
    "fpr, tpr, thresholds = roc_curve(y_train, gbm.predict_proba(X_tr_scaled)[:,1])\n",
    "plt.plot(fpr, tpr)\n",
    "\n",
    "fpr, tpr, thresholds = roc_curve(y_train, logReg.predict_proba(X_tr_scaled)[:,1])\n",
    "plt.plot(fpr, tpr)\n",
    "\n",
    "# grids \n",
    "x = np.linspace(0,1, 100000)\n",
    "plt.plot(x, x, linestyle='--')\n",
    "\n",
    "plt.title('ROC Curve Tain')\n",
    "plt.xlabel('False Positive Rate')\n",
    "plt.ylabel('True Positive Rate')\n",
    "plt.legend(['Random Forests', 'K-nearest neighor', 'Gradient boosted', 'Logistic regression'])"
   ]
  },
  {
   "cell_type": "code",
   "execution_count": 51,
   "id": "de872347",
   "metadata": {},
   "outputs": [
    {
     "data": {
      "text/plain": [
       "<matplotlib.legend.Legend at 0x7fdfcb9273d0>"
      ]
     },
     "execution_count": 51,
     "metadata": {},
     "output_type": "execute_result"
    },
    {
     "data": {
      "image/png": "[encoded data removed]",
      "text/plain": [
       "<Figure size 600x400 with 1 Axes>"
      ]
     },
     "metadata": {
      "needs_background": "light"
     },
     "output_type": "display_data"
    }
   ],
   "source": [
    "# roc curve train data - oversampled\n",
    "plt.figure(figsize = [6,4], dpi=100)\n",
    "fpr, tpr, thresholds = roc_curve(y_tr_rs, rf.predict_proba(X_tr_rs)[:,1])\n",
    "plt.plot(fpr, tpr)\n",
    "\n",
    "fpr, tpr, thresholds = roc_curve(y_tr_rs, knn.predict_proba(X_tr_rs)[:,1])\n",
    "plt.plot(fpr, tpr)\n",
    "\n",
    "fpr, tpr, thresholds = roc_curve(y_tr_rs, gbm.predict_proba(X_tr_rs)[:,1])\n",
    "plt.plot(fpr, tpr)\n",
    "\n",
    "fpr, tpr, thresholds = roc_curve(y_tr_rs, logReg.predict_proba(X_tr_rs)[:,1])\n",
    "plt.plot(fpr, tpr)\n",
    "\n",
    "# grids \n",
    "x = np.linspace(0,1, 100000)\n",
    "plt.plot(x, x, linestyle='--')\n",
    "\n",
    "plt.title('ROC Curve Train with oversample')\n",
    "plt.xlabel('False Positive Rate')\n",
    "plt.ylabel('True Positive Rate')\n",
    "plt.legend(['Random Forests', 'K-nearest neighor', 'Gradient boosted', 'Logistic regression'])"
   ]
  },
  {
   "cell_type": "code",
   "execution_count": 50,
   "id": "cd967b18",
   "metadata": {},
   "outputs": [
    {
     "data": {
      "text/plain": [
       "<matplotlib.legend.Legend at 0x7fdfca08af40>"
      ]
     },
     "execution_count": 50,
     "metadata": {},
     "output_type": "execute_result"
    },
    {
     "data": {
      "image/png": "[encoded data removed]",
      "text/plain": [
       "<Figure size 600x400 with 1 Axes>"
      ]
     },
     "metadata": {
      "needs_background": "light"
     },
     "output_type": "display_data"
    }
   ],
   "source": [
    "# roc curve train data - test\n",
    "plt.figure(figsize = [6,4], dpi=100)\n",
    "fpr, tpr, thresholds = roc_curve(y_test, rf.predict_proba(X_te_scaled)[:,1])\n",
    "plt.plot(fpr, tpr)\n",
    "\n",
    "fpr, tpr, thresholds = roc_curve(y_test, knn.predict_proba(X_te_scaled)[:,1])\n",
    "plt.plot(fpr, tpr)\n",
    "\n",
    "fpr, tpr, thresholds = roc_curve(y_test, gbm.predict_proba(X_te_scaled)[:,1])\n",
    "plt.plot(fpr, tpr)\n",
    "\n",
    "fpr, tpr, thresholds = roc_curve(y_test, logReg.predict_proba(X_te_scaled)[:,1])\n",
    "plt.plot(fpr, tpr)\n",
    "\n",
    "# grids \n",
    "x = np.linspace(0,1, 100000)\n",
    "plt.plot(x, x, linestyle='--')\n",
    "\n",
    "plt.title('ROC Curve Test')\n",
    "plt.xlabel('False Positive Rate')\n",
    "plt.ylabel('True Positive Rate')\n",
    "plt.legend(['Random Forests', 'K-nearest neighor', 'Gradient boosted', 'Logistic regression'])"
   ]
  },
  {
   "cell_type": "code",
   "execution_count": null,
   "id": "17327254",
   "metadata": {},
   "outputs": [],
   "source": []
  }
 ],
 "metadata": {
  "kernelspec": {
   "display_name": "Python 3 (classification)",
   "language": "python",
   "name": "classification"
  },
  "language_info": {
   "codemirror_mode": {
    "name": "ipython",
    "version": 3
   },
   "file_extension": ".py",
   "mimetype": "text/x-python",
   "name": "python",
   "nbconvert_exporter": "python",
   "pygments_lexer": "ipython3",
   "version": "3.9.7"
  }
 },
 "nbformat": 4,
 "nbformat_minor": 5
}
